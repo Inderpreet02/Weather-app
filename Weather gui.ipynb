{
 "cells": [
  {
   "cell_type": "code",
   "execution_count": 28,
   "metadata": {
    "scrolled": false
   },
   "outputs": [],
   "source": [
    "import tkinter as tk\n",
    "import requests\n",
    "from PIL import ImageTk,Image\n",
    "import json\n",
    "HEIGHT = 690\n",
    "WIDTH = 800\n",
    "\n",
    "def test_function(entry):\n",
    "    print(\"This is the entery: \",entry)\n",
    "    \n",
    "# 8737da99cd59a012360fbbf6fc5445ef\n",
    "# https://pro.openweathermap.org/data/2.5/forecast/climate?q={city name},{country code}&appid={API key}\n",
    "\n",
    "def format_response(weather):\n",
    "    name = weather[\"name\"]\n",
    "    desc = weather[\"weather\"][0][\"description\"]\n",
    "    temp = weather[\"main\"][\"temp\"]\n",
    "    \n",
    "    return str(name) + \" \" + str(desc) + \" \" + str(temp)\n",
    "                                 \n",
    "def get_weather(city):\n",
    "    weather_key = \"8737da99cd59a012360fbbf6fc5445ef\"\n",
    "    url = \"https://api.openweathermap.org/data/2.5/weather?q=[city name]&appid=8737da99cd59a012360fbbf6fc5445ef\"\n",
    "    parmas = {\"q\":city, \"units\": \"imperial\"}\n",
    "    response = requests.get(url, parmas )\n",
    "    weather = response.json()\n",
    "    \n",
    "    label[\"text\"] = format_response(weather)\n",
    "    \n",
    "    \n",
    "root = tk.Tk()\n",
    "root.title(\"Weather App\")\n",
    "\n",
    "canvas = tk.Canvas(root, height = HEIGHT, width = WIDTH)\n",
    "canvas.pack()\n",
    "\n",
    "background_image = ImageTk.PhotoImage(Image.open('landscape.jpg'))\n",
    "background_label = tk.Label(image = background_image)\n",
    "background_label.place(relheight = 1, relwidth = 1 )\n",
    "\n",
    "frame = tk.Frame(root, bg = \"blue\", bd = 5)\n",
    "frame.place(relx = 0.5, rely = 0.1, relwidth = 0.75, relheight = 0.1, anchor = \"n\")\n",
    "\n",
    "entry = tk.Entry(frame, font = (\"Italic, 20\"))\n",
    "entry.place(relwidth = 0.65, relheight = 1)\n",
    "\n",
    "button = tk.Button(frame, text = \"Get Weather\", font = 40, command = lambda: get_weather(entry.get()))\n",
    "button.place(relx = 0.7, rely = 0, relwidth = 0.3, relheight = 1)\n",
    "\n",
    "lower_frame = tk.Frame(root, bg = \"blue\", bd= 7)\n",
    "lower_frame.place(relx = 0.5, rely = 0.25, relwidth = 0.75, relheight = 0.6, anchor = \"n\")\n",
    "\n",
    "label = tk.Label(lower_frame, fg = \"red\")\n",
    "label.place(relwidth = 1, relheight = 1)\n",
    "\n",
    "root.mainloop()"
   ]
  },
  {
   "cell_type": "code",
   "execution_count": 16,
   "metadata": {},
   "outputs": [],
   "source": []
  }
 ],
 "metadata": {
  "kernelspec": {
   "display_name": "Python 3",
   "language": "python",
   "name": "python3"
  },
  "language_info": {
   "codemirror_mode": {
    "name": "ipython",
    "version": 3
   },
   "file_extension": ".py",
   "mimetype": "text/x-python",
   "name": "python",
   "nbconvert_exporter": "python",
   "pygments_lexer": "ipython3",
   "version": "3.7.0"
  }
 },
 "nbformat": 4,
 "nbformat_minor": 2
}

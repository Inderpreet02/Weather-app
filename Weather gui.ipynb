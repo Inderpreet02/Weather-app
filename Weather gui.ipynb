{
 "cells": [
  {
   "cell_type": "code",
   "execution_count": 5,
   "metadata": {
    "scrolled": true
   },
   "outputs": [
    {
     "name": "stdout",
     "output_type": "stream",
     "text": [
      "{'coord': {'lon': 76.4, 'lat': 30.33}, 'weather': [{'id': 800, 'main': 'Clear', 'description': 'clear sky', 'icon': '01d'}], 'base': 'stations', 'main': {'temp': 307.72, 'feels_like': 303.1, 'temp_min': 307.72, 'temp_max': 307.72, 'pressure': 1009, 'humidity': 11, 'sea_level': 1009, 'grnd_level': 980}, 'visibility': 10000, 'wind': {'speed': 3.72, 'deg': 319}, 'clouds': {'all': 0}, 'dt': 1603006756, 'sys': {'country': 'IN', 'sunrise': 1602982704, 'sunset': 1603023619}, 'timezone': 19800, 'id': 1260107, 'name': 'Patiāla', 'cod': 200}\n",
      "{'coord': {'lon': 76.59, 'lat': 30.48}, 'weather': [{'id': 800, 'main': 'Clear', 'description': 'clear sky', 'icon': '01d'}], 'base': 'stations', 'main': {'temp': 307.12, 'feels_like': 303.07, 'temp_min': 307.12, 'temp_max': 307.12, 'pressure': 1009, 'humidity': 14, 'sea_level': 1009, 'grnd_level': 979}, 'visibility': 10000, 'wind': {'speed': 3.56, 'deg': 321}, 'clouds': {'all': 0}, 'dt': 1603006767, 'sys': {'country': 'IN', 'sunrise': 1602982667, 'sunset': 1603023565}, 'timezone': 19800, 'id': 1258803, 'name': 'Rajpura', 'cod': 200}\n",
      "{'coord': {'lon': 72.85, 'lat': 19.01}, 'weather': [{'id': 721, 'main': 'Haze', 'description': 'haze', 'icon': '50d'}], 'base': 'stations', 'main': {'temp': 304.15, 'feels_like': 307.38, 'temp_min': 304.15, 'temp_max': 304.15, 'pressure': 1008, 'humidity': 66}, 'visibility': 4000, 'wind': {'speed': 3.6, 'deg': 160}, 'clouds': {'all': 75}, 'dt': 1603006310, 'sys': {'type': 1, 'id': 9052, 'country': 'IN', 'sunrise': 1602983010, 'sunset': 1603025017}, 'timezone': 19800, 'id': 1275339, 'name': 'Mumbai', 'cod': 200}\n",
      "{'coord': {'lon': 76.79, 'lat': 30.73}, 'weather': [{'id': 800, 'main': 'Clear', 'description': 'clear sky', 'icon': '01d'}], 'base': 'stations', 'main': {'temp': 305.65, 'feels_like': 302.27, 'temp_min': 305.65, 'temp_max': 305.65, 'pressure': 1010, 'humidity': 19, 'sea_level': 1010, 'grnd_level': 972}, 'visibility': 10000, 'wind': {'speed': 3.48, 'deg': 308}, 'clouds': {'all': 0}, 'dt': 1603006615, 'sys': {'country': 'IN', 'sunrise': 1602982632, 'sunset': 1603023504}, 'timezone': 19800, 'id': 1274746, 'name': 'Chandigarh', 'cod': 200}\n"
     ]
    }
   ],
   "source": [
    "import tkinter as tk\n",
    "import requests\n",
    "from PIL import ImageTk,Image\n",
    "import json\n",
    "HEIGHT = 690\n",
    "WIDTH = 800\n",
    "\n",
    "def test_function(entry):\n",
    "    print(\"This is the entery: \",entry)\n",
    "    \n",
    "# 8737da99cd59a012360fbbf6fc5445ef\n",
    "# https://pro.openweathermap.org/data/2.5/forecast/climate?q={city name},{country code}&appid={API key}\n",
    "\n",
    "def format_response(weather, cityname):\n",
    "#     name = weather[\"name\"]\n",
    "    desc = weather[\"weather\"][0][\"description\"]\n",
    "    temp = weather[\"main\"][\"temp\"]\n",
    "    \n",
    "    return str(cityname) + \" \" + str(desc) + \" \" + str(int(temp)-273)\n",
    "                                 \n",
    "def get_weather(cityname):\n",
    "    weather_key = \"eefae161359e85be37271a19c85fda0b\"\n",
    "    url = \"http://api.openweathermap.org/data/2.5/weather?q=\" + cityname + \"&appid=8737da99cd59a012360fbbf6fc5445ef\"\n",
    "    #url = \"http://api.openweathermap.org/data/2.5/weather?q=&appid=8737da99cd59a012360fbbf6fc5445ef\"\n",
    "    #parmas = {\"q\":cityname, \"units\": \"imperial\"}\n",
    "    response = requests.get(url)\n",
    "    print(response.json())\n",
    "    weather = response.json()\n",
    "    \n",
    "    label[\"text\"] = format_response(weather, cityname)\n",
    "\n",
    "    \n",
    "root = tk.Tk()\n",
    "root.title(\"Weather App\")\n",
    "\n",
    "canvas = tk.Canvas(root, height = HEIGHT, width = WIDTH)\n",
    "canvas.pack()\n",
    "\n",
    "background_image = ImageTk.PhotoImage(Image.open('landscape.jpg'))\n",
    "background_label = tk.Label(image = background_image)\n",
    "background_label.place(relheight = 1, relwidth = 1 )\n",
    "\n",
    "frame = tk.Frame(root, bg = \"blue\", bd = 5)\n",
    "frame.place(relx = 0.5, rely = 0.1, relwidth = 0.75, relheight = 0.1, anchor = \"n\")\n",
    "\n",
    "entry = tk.Entry(frame, font = (\"Italic, 20\"))\n",
    "entry.place(relwidth = 0.65, relheight = 1)\n",
    "\n",
    "button = tk.Button(frame, text = \"Get Weather\", font = (\"20\"), command = lambda: get_weather(entry.get()))\n",
    "button.place(relx = 0.7, rely = 0, relwidth = 0.3, relheight = 1)\n",
    "\n",
    "lower_frame = tk.Frame(root, bg = \"blue\", bd= 7)\n",
    "lower_frame.place(relx = 0.5, rely = 0.25, relwidth = 0.75, relheight = 0.6, anchor = \"n\")\n",
    "\n",
    "label = tk.Label(lower_frame, fg = \"red\", font = 500, anchor = \"nw\")\n",
    "label.place(relwidth = 1, relheight = 1)\n",
    "\n",
    "root.mainloop()"
   ]
  },
  {
   "cell_type": "code",
   "execution_count": 16,
   "metadata": {},
   "outputs": [],
   "source": [
    "{'lon': 76.4, 'lat': 30.33"
   ]
  }
 ],
 "metadata": {
  "kernelspec": {
   "display_name": "Python 3",
   "language": "python",
   "name": "python3"
  },
  "language_info": {
   "codemirror_mode": {
    "name": "ipython",
    "version": 3
   },
   "file_extension": ".py",
   "mimetype": "text/x-python",
   "name": "python",
   "nbconvert_exporter": "python",
   "pygments_lexer": "ipython3",
   "version": "3.7.0"
  }
 },
 "nbformat": 4,
 "nbformat_minor": 2
}
